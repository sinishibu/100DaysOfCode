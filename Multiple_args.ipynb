{
  "nbformat": 4,
  "nbformat_minor": 0,
  "metadata": {
    "colab": {
      "name": "Multiple_args.ipynb",
      "provenance": [],
      "authorship_tag": "ABX9TyN7kYT7f9dlC+Scuc03NIKH",
      "include_colab_link": true
    },
    "kernelspec": {
      "name": "python3",
      "display_name": "Python 3"
    },
    "language_info": {
      "name": "python"
    }
  },
  "cells": [
    {
      "cell_type": "markdown",
      "metadata": {
        "id": "view-in-github",
        "colab_type": "text"
      },
      "source": [
        "<a href=\"https://colab.research.google.com/github/sinishibu/100DaysOfCode/blob/main/Multiple_args.ipynb\" target=\"_parent\"><img src=\"https://colab.research.google.com/assets/colab-badge.svg\" alt=\"Open In Colab\"/></a>"
      ]
    },
    {
      "cell_type": "code",
      "metadata": {
        "colab": {
          "base_uri": "https://localhost:8080/"
        },
        "id": "tXGSE6jgOvM3",
        "outputId": "e50af6e8-f6e6-42c6-bf9e-cfb27dc080a2"
      },
      "source": [
        "def add(*args):\n",
        "  s=0\n",
        "  for i in args:\n",
        "    s=s+i\n",
        "  return(s)\n",
        "\n",
        "add(10,20,30)"
      ],
      "execution_count": 2,
      "outputs": [
        {
          "output_type": "execute_result",
          "data": {
            "text/plain": [
              "60"
            ]
          },
          "metadata": {},
          "execution_count": 2
        }
      ]
    }
  ]
}