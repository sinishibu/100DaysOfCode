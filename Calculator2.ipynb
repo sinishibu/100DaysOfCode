{
  "nbformat": 4,
  "nbformat_minor": 0,
  "metadata": {
    "colab": {
      "name": "Calculator2.ipynb",
      "provenance": [],
      "authorship_tag": "ABX9TyMA6xXu9Npg/gmkU7n5kEmZ",
      "include_colab_link": true
    },
    "kernelspec": {
      "name": "python3",
      "display_name": "Python 3"
    },
    "language_info": {
      "name": "python"
    }
  },
  "cells": [
    {
      "cell_type": "markdown",
      "metadata": {
        "id": "view-in-github",
        "colab_type": "text"
      },
      "source": [
        "<a href=\"https://colab.research.google.com/github/sinishibu/100DaysOfCode/blob/main/Calculator2.ipynb\" target=\"_parent\"><img src=\"https://colab.research.google.com/assets/colab-badge.svg\" alt=\"Open In Colab\"/></a>"
      ]
    },
    {
      "cell_type": "code",
      "metadata": {
        "id": "_3Df6lHWCxpD"
      },
      "source": [
        "#Calculator\n",
        "def add(n1,n2):\n",
        "  return n1+n2\n",
        "def subtract(n1,n2):\n",
        "  return n1-n2\n",
        "def multiply(n1,n2):\n",
        "  return n1*n2\n",
        "def divide(n1,n2):\n",
        "  return n1/n2\n",
        "operations={\n",
        "  \"+\":add,\n",
        "  \"-\":subtract,\n",
        "  \"*\":multiply,\n",
        "  \"/\":divide    \n",
        "}\n",
        "\n",
        "n1=int(input(\"What is the first number?:\"))\n",
        "\n",
        "for symbol in operations:\n",
        "  print(symbol)\n",
        "operation_symbol=input(\"Pick an operation from the line above:\")\n",
        "calculation_function=operations[operation_symbol]\n",
        "\n",
        "n2=int(input(\"What is the second number?:\"))\n",
        "\n",
        "answer=calculation_function(n1,n2)\n",
        "\n",
        "print(f\"{n1} {operation_symbol} {n2}={answer}\")"
      ],
      "execution_count": null,
      "outputs": []
    }
  ]
}