{
  "nbformat": 4,
  "nbformat_minor": 0,
  "metadata": {
    "colab": {
      "name": "CaesarCipher.ipynb",
      "provenance": [],
      "authorship_tag": "ABX9TyNE5TgB5jT8hpFKJaLTsOzE",
      "include_colab_link": true
    },
    "kernelspec": {
      "name": "python3",
      "display_name": "Python 3"
    },
    "language_info": {
      "name": "python"
    }
  },
  "cells": [
    {
      "cell_type": "markdown",
      "metadata": {
        "id": "view-in-github",
        "colab_type": "text"
      },
      "source": [
        "<a href=\"https://colab.research.google.com/github/sinishibu/100DaysOfCode/blob/main/CaesarCipher.ipynb\" target=\"_parent\"><img src=\"https://colab.research.google.com/assets/colab-badge.svg\" alt=\"Open In Colab\"/></a>"
      ]
    },
    {
      "cell_type": "code",
      "metadata": {
        "colab": {
          "base_uri": "https://localhost:8080/"
        },
        "id": "RPJQktiU30gC",
        "outputId": "e6015791-885e-479f-c055-7c91338e99c7"
      },
      "source": [
        "alphabet = ['a', 'b', 'c', 'd', 'e', 'f', 'g', 'h', 'i', 'j', 'k', 'l', 'm', 'n', 'o', 'p', 'q', 'r', 's', 't', 'u', 'v', 'w', 'x', 'y', 'z']\n",
        "def encrypt(text,shift):\n",
        "  cipher=''\n",
        "  for i in range(0,len(text)):\n",
        "        cipher+=(alphabet[(alphabet.index(text[i])+shift)%26])\n",
        "  print(\"Ciphertext is \",cipher)\n",
        "\n",
        "def decrypt(cipher,key):\n",
        "  plain_text=''\n",
        "  for i in range(0,len(cipher)):\n",
        "        plain_text+=(alphabet[(alphabet.index(cipher[i])-key)%26])\n",
        "  print(\"Plain text is \",plain_text)\n",
        "\n",
        "\n",
        "direction=input(\"Type 'encode' to encrypt, type 'decode' to decrypt:\")\n",
        "if direction=='encode':\n",
        "  text = input(\"Type your message:\\n\").lower()\n",
        "  shift = int(input(\"Type the shift number:\\n\"))\n",
        "  encrypt(text,shift)\n",
        "elif direction=='decode':\n",
        "  cipher = input(\"Enter cipher text:\\n\").lower()\n",
        "  key = int(input(\"Enter key:\\n\"))\n",
        "  decrypt(cipher,key)"
      ],
      "execution_count": 3,
      "outputs": [
        {
          "output_type": "stream",
          "text": [
            "Type 'encode' to encrypt, type 'decode' to decrypt:decode\n",
            "Enter cipher text:\n",
            "aaabbbss\n",
            "Enter key:\n",
            "3\n",
            "Plain text is  xxxyyypp\n"
          ],
          "name": "stdout"
        }
      ]
    }
  ]
}