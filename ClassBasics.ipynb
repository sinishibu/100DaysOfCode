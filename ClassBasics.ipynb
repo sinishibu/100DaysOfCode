{
  "nbformat": 4,
  "nbformat_minor": 0,
  "metadata": {
    "colab": {
      "name": "ClassBasics.ipynb",
      "provenance": [],
      "authorship_tag": "ABX9TyMePnM6iurNcTVANf1ehe/w",
      "include_colab_link": true
    },
    "kernelspec": {
      "name": "python3",
      "display_name": "Python 3"
    },
    "language_info": {
      "name": "python"
    }
  },
  "cells": [
    {
      "cell_type": "markdown",
      "metadata": {
        "id": "view-in-github",
        "colab_type": "text"
      },
      "source": [
        "<a href=\"https://colab.research.google.com/github/sinishibu/100DaysOfCode/blob/main/ClassBasics.ipynb\" target=\"_parent\"><img src=\"https://colab.research.google.com/assets/colab-badge.svg\" alt=\"Open In Colab\"/></a>"
      ]
    },
    {
      "cell_type": "code",
      "metadata": {
        "colab": {
          "base_uri": "https://localhost:8080/"
        },
        "id": "Yixc0RHJFnyz",
        "outputId": "e6c12241-e0d9-4e0c-e8f6-7b97c7b4228e"
      },
      "source": [
        "class Car:\n",
        "  def __init__(self):\n",
        "    self.wheels=4\n",
        "    self.seats=5\n",
        "  def increase_seats_wheels(self):\n",
        "    self.wheels+=1\n",
        "    self.seats+=1\n",
        "my_car=Car()\n",
        "print(f\"My car has {my_car.wheels} wheels.\")\n",
        "print(f\"My car has {my_car.seats} seats.\")\n",
        "my_car.increase_seats_wheels()\n",
        "print(f\"My car now has {my_car.wheels} wheels.\")\n",
        "print(f\"My car now has {my_car.seats} seats.\")"
      ],
      "execution_count": 8,
      "outputs": [
        {
          "output_type": "stream",
          "text": [
            "My car has 4 wheels.\n",
            "My car has 5 seats.\n",
            "My car now has 5 wheels.\n",
            "My car now has 6 seats.\n"
          ],
          "name": "stdout"
        }
      ]
    },
    {
      "cell_type": "code",
      "metadata": {
        "colab": {
          "base_uri": "https://localhost:8080/"
        },
        "id": "DGKu01ZdHZmo",
        "outputId": "5f982e28-8b2e-450e-8a0f-2d6c2cc15860"
      },
      "source": [
        "class Car:\n",
        "  def __init__(self):\n",
        "    self.wheels=4\n",
        "    self.seats=5\n",
        "  def increase_seats_wheels(self):\n",
        "    self.wheels+=1\n",
        "    self.seats+=1\n",
        "my_car=[]\n",
        "for i in range(5):\n",
        "  my_car.append(Car())\n",
        "my_car[2].wheels=5\n",
        "for i in range(5):\n",
        "  print(f\"Car {i+1} has {my_car[i].wheels} wheels\")\n",
        "  print(f\"Car {i+1} has {my_car[i].seats} seats\")\n",
        "my_car[3].increase_seats_wheels()\n",
        "for i in range(5):\n",
        "  print(f\"Now Car {i+1} has {my_car[i].wheels} wheels\")\n",
        "  print(f\"Now Car {i+1} has {my_car[i].seats} seats\")"
      ],
      "execution_count": 14,
      "outputs": [
        {
          "output_type": "stream",
          "text": [
            "Car 1 has 4 wheels\n",
            "Car 1 has 5 seats\n",
            "Car 2 has 4 wheels\n",
            "Car 2 has 5 seats\n",
            "Car 3 has 5 wheels\n",
            "Car 3 has 5 seats\n",
            "Car 4 has 4 wheels\n",
            "Car 4 has 5 seats\n",
            "Car 5 has 4 wheels\n",
            "Car 5 has 5 seats\n",
            "Now Car 1 has 4 wheels\n",
            "Now Car 1 has 5 seats\n",
            "Now Car 2 has 4 wheels\n",
            "Now Car 2 has 5 seats\n",
            "Now Car 3 has 5 wheels\n",
            "Now Car 3 has 5 seats\n",
            "Now Car 4 has 5 wheels\n",
            "Now Car 4 has 6 seats\n",
            "Now Car 5 has 4 wheels\n",
            "Now Car 5 has 5 seats\n"
          ],
          "name": "stdout"
        }
      ]
    }
  ]
}