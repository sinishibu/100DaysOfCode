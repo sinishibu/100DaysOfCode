{
  "nbformat": 4,
  "nbformat_minor": 0,
  "metadata": {
    "colab": {
      "name": "PizzaBilling.ipynb",
      "provenance": [],
      "authorship_tag": "ABX9TyND1VUt7W/laFRFZtreTxy0",
      "include_colab_link": true
    },
    "kernelspec": {
      "name": "python3",
      "display_name": "Python 3"
    },
    "language_info": {
      "name": "python"
    }
  },
  "cells": [
    {
      "cell_type": "markdown",
      "metadata": {
        "id": "view-in-github",
        "colab_type": "text"
      },
      "source": [
        "<a href=\"https://colab.research.google.com/github/sinishibu/100DaysOfCode/blob/main/PizzaBilling.ipynb\" target=\"_parent\"><img src=\"https://colab.research.google.com/assets/colab-badge.svg\" alt=\"Open In Colab\"/></a>"
      ]
    },
    {
      "cell_type": "code",
      "metadata": {
        "id": "aA8wPl1huPuz"
      },
      "source": [
        "# 🚨 Don't change the code below 👇\n",
        "print(\"Welcome to Python Pizza Deliveries!\")\n",
        "size = input(\"What size pizza do you want? S, M, or L \")\n",
        "add_pepperoni = input(\"Do you want pepperoni? Y or N \")\n",
        "extra_cheese = input(\"Do you want extra cheese? Y or N \")\n",
        "# 🚨 Don't change the code above 👆\n",
        "\n",
        "#Write your code below this line 👇\n",
        "bill=0\n",
        "if size==\"S\":\n",
        "    bill=15\n",
        "    if add_pepperoni==\"Y\":\n",
        "      bill+=2\n",
        "    if extra_cheese==\"Y\":\n",
        "      bill+=1\n",
        "elif size==\"M\":\n",
        "  bill=20\n",
        "  if add_pepperoni==\"Y\":\n",
        "      bill+=3\n",
        "  if extra_cheese==\"Y\":\n",
        "      bill+=1\n",
        "else:\n",
        "  bill=25\n",
        "  if add_pepperoni==\"Y\":\n",
        "      bill+=3\n",
        "  if extra_cheese==\"Y\":\n",
        "      bill+=1\n",
        "\n",
        "print(f\"Your final bill is {bill}\")\n"
      ],
      "execution_count": null,
      "outputs": []
    }
  ]
}