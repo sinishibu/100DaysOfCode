{
  "nbformat": 4,
  "nbformat_minor": 0,
  "metadata": {
    "colab": {
      "name": "Highest_score.ipynb",
      "provenance": [],
      "authorship_tag": "ABX9TyND/gEtp4bQmG1t6yDd4dCA",
      "include_colab_link": true
    },
    "kernelspec": {
      "name": "python3",
      "display_name": "Python 3"
    },
    "language_info": {
      "name": "python"
    }
  },
  "cells": [
    {
      "cell_type": "markdown",
      "metadata": {
        "id": "view-in-github",
        "colab_type": "text"
      },
      "source": [
        "<a href=\"https://colab.research.google.com/github/sinishibu/100DaysOfCode/blob/main/Highest_score.ipynb\" target=\"_parent\"><img src=\"https://colab.research.google.com/assets/colab-badge.svg\" alt=\"Open In Colab\"/></a>"
      ]
    },
    {
      "cell_type": "code",
      "metadata": {
        "id": "PxIrjdoyvHt7"
      },
      "source": [
        "# 🚨 Don't change the code below 👇\n",
        "student_scores = input(\"Input a list of student scores \").split()\n",
        "for n in range(0, len(student_scores)):\n",
        "  student_scores[n] = int(student_scores[n])\n",
        "print(student_scores)\n",
        "# 🚨 Don't change the code above 👆\n",
        "\n",
        "#Write your code below this row 👇\n",
        "\n",
        "max=0\n",
        "for i in student_scores:\n",
        "  if i>max:\n",
        "    max=i\n",
        "print('The highest score in the class is: ',max)"
      ],
      "execution_count": null,
      "outputs": []
    }
  ]
}