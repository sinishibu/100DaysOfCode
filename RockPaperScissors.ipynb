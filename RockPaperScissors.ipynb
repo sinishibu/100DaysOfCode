{
  "nbformat": 4,
  "nbformat_minor": 0,
  "metadata": {
    "colab": {
      "name": "RockPaperScissors.ipynb",
      "provenance": [],
      "authorship_tag": "ABX9TyPhpGr+3MPCF5qG3c8gTWyg",
      "include_colab_link": true
    },
    "kernelspec": {
      "name": "python3",
      "display_name": "Python 3"
    },
    "language_info": {
      "name": "python"
    }
  },
  "cells": [
    {
      "cell_type": "markdown",
      "metadata": {
        "id": "view-in-github",
        "colab_type": "text"
      },
      "source": [
        "<a href=\"https://colab.research.google.com/github/sinishibu/100DaysOfCode/blob/main/RockPaperScissors.ipynb\" target=\"_parent\"><img src=\"https://colab.research.google.com/assets/colab-badge.svg\" alt=\"Open In Colab\"/></a>"
      ]
    },
    {
      "cell_type": "code",
      "metadata": {
        "colab": {
          "base_uri": "https://localhost:8080/"
        },
        "id": "O34daFSTSfdX",
        "outputId": "d25b6e95-04ce-4954-900f-d1135456ca5e"
      },
      "source": [
        "rock = '''\n",
        "    _______\n",
        "---'   ____)\n",
        "      (_____)\n",
        "      (_____)\n",
        "      (____)\n",
        "---.__(___)\n",
        "'''\n",
        "\n",
        "paper = '''\n",
        "    _______\n",
        "---'   ____)____\n",
        "          ______)\n",
        "          _______)\n",
        "         _______)\n",
        "---.__________)\n",
        "'''\n",
        "\n",
        "scissors = '''\n",
        "    _______\n",
        "---'   ____)____\n",
        "          ______)\n",
        "       __________)\n",
        "      (____)\n",
        "---.__(___)\n",
        "'''\n",
        "import random\n",
        "l=[0,1,2]\n",
        "user=int(input(\"What do you choose? Type 0 for Rock, 1 for Paper or 2 for Scissors\\n\"))\n",
        "comp=random.choice(l)\n",
        "if(user==0 and comp==0):\n",
        "  print(\"User's Choice:Rock\\n\")\n",
        "  print(rock)\n",
        "  print(\"Computer's Choice:Rock\\n\")\n",
        "  print(rock)\n",
        "  print(\"The game is a draw\")\n",
        "if(user==1 and comp==1):\n",
        "  print(\"User's Choice:Paper\\n\")\n",
        "  print(paper)\n",
        "  print(\"Computer's Choice:Paper\\n\")\n",
        "  print(paper)\n",
        "  print(\"The game is a draw\")\n",
        "if(user==2 and comp==2):\n",
        "  print(\"User's Choice:Scissors\\n\")\n",
        "  print(scissors)\n",
        "  print(\"Computer's Choice:Scissors\\n\")\n",
        "  print(scissors)\n",
        "  print(\"The game is a draw\")\n",
        "if(user==0 and comp==1):\n",
        "  print(\"User's Choice:Rock\\n\")\n",
        "  print(rock)\n",
        "  print(\"Computer's Choice:Paper\\n\")\n",
        "  print(paper)\n",
        "  print(\"Computer won!!\") \n",
        "if(user==0 and comp==2):\n",
        "  print(\"User's Choice:Rock\\n\")\n",
        "  print(rock)\n",
        "  print(\"Computer's Choice:Scissors\\n\")\n",
        "  print(scissors)\n",
        "  print(\"You won!!\") \n",
        "if(user==1 and comp==0):\n",
        "  print(\"User's Choice:Paper\\n\")\n",
        "  print(paper)\n",
        "  print(\"Computer's Choice:Rock\\n\")\n",
        "  print(rock)\n",
        "  print(\"You won!!\")\n",
        "if(user==1 and comp==2):\n",
        "  print(\"User's Choice:Paper\\n\")\n",
        "  print(paper)\n",
        "  print(\"Computer's Choice:Scissors\\n\")\n",
        "  print(scissors)\n",
        "  print(\"Computer won!!\")\n",
        "if(user==2 and comp==0):\n",
        "  print(\"User's Choice:Scissors\\n\")\n",
        "  print(scissors)\n",
        "  print(\"Computer's Choice:Rock\\n\")\n",
        "  print(rock)\n",
        "  print(\"Computer won!!\")\n",
        "if(user==2 and comp==1):\n",
        "  print(\"User's Choice:Scissors\\n\")\n",
        "  print(scissors)\n",
        "  print(\"Computer's Choice:Paper\\n\")\n",
        "  print(paper)\n",
        "  print(\"You won!!\")\n",
        "\n",
        "\n",
        "\n"
      ],
      "execution_count": 4,
      "outputs": [
        {
          "output_type": "stream",
          "text": [
            "What do you choose? Type 0 for Rock, 1 for Paper or 2 for Scissors\n",
            "1\n",
            "User's Choice:Paper\n",
            "\n",
            "\n",
            "    _______\n",
            "---'   ____)____\n",
            "          ______)\n",
            "          _______)\n",
            "         _______)\n",
            "---.__________)\n",
            "\n",
            "Computer's Choice:Scissors\n",
            "\n",
            "\n",
            "    _______\n",
            "---'   ____)____\n",
            "          ______)\n",
            "       __________)\n",
            "      (____)\n",
            "---.__(___)\n",
            "\n",
            "Computer won!!\n"
          ],
          "name": "stdout"
        }
      ]
    }
  ]
}