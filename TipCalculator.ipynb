{
  "nbformat": 4,
  "nbformat_minor": 0,
  "metadata": {
    "colab": {
      "name": "TipCalculator.ipynb",
      "provenance": [],
      "authorship_tag": "ABX9TyPGR4qRKviUnVAZoRcYUXuk",
      "include_colab_link": true
    },
    "kernelspec": {
      "name": "python3",
      "display_name": "Python 3"
    },
    "language_info": {
      "name": "python"
    }
  },
  "cells": [
    {
      "cell_type": "markdown",
      "metadata": {
        "id": "view-in-github",
        "colab_type": "text"
      },
      "source": [
        "<a href=\"https://colab.research.google.com/github/sinishibu/100DaysOfCode/blob/main/TipCalculator.ipynb\" target=\"_parent\"><img src=\"https://colab.research.google.com/assets/colab-badge.svg\" alt=\"Open In Colab\"/></a>"
      ]
    },
    {
      "cell_type": "code",
      "metadata": {
        "colab": {
          "base_uri": "https://localhost:8080/"
        },
        "id": "-W9HHP5cDkrI",
        "outputId": "dfda141b-4b06-4b38-85b8-40ea1048162d"
      },
      "source": [
        "print(\"Welcome to Tip Calculator\")\n",
        "bill=float(input(\"What was the total bill? $\"))\n",
        "tip_per=int(input(\"What percentage tip would you like to give? 10, 12 or 15?\"))\n",
        "n=int(input(\"How many people to split the bill?\"))\n",
        "factor=(tip_per*0.01)+1\n",
        "contri=round((bill/n)*factor,2)\n",
        "print(f\"Each person should pay ${contri}\")"
      ],
      "execution_count": 1,
      "outputs": [
        {
          "output_type": "stream",
          "text": [
            "Welcome to Tip Calculator\n",
            "What was the total bill? $200\n",
            "What percentage tip would you like to give? 10, 12 or 15?10\n",
            "How many people to split the bill?3\n",
            "Each person should pay $73.33\n"
          ],
          "name": "stdout"
        }
      ]
    }
  ]
}