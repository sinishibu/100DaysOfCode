{
  "nbformat": 4,
  "nbformat_minor": 0,
  "metadata": {
    "colab": {
      "name": "NumberGuessing.ipynb",
      "provenance": [],
      "authorship_tag": "ABX9TyO7wbbVCLjRbhVTqId4rHRK",
      "include_colab_link": true
    },
    "kernelspec": {
      "name": "python3",
      "display_name": "Python 3"
    },
    "language_info": {
      "name": "python"
    }
  },
  "cells": [
    {
      "cell_type": "markdown",
      "metadata": {
        "id": "view-in-github",
        "colab_type": "text"
      },
      "source": [
        "<a href=\"https://colab.research.google.com/github/sinishibu/100DaysOfCode/blob/main/NumberGuessing.ipynb\" target=\"_parent\"><img src=\"https://colab.research.google.com/assets/colab-badge.svg\" alt=\"Open In Colab\"/></a>"
      ]
    },
    {
      "cell_type": "code",
      "metadata": {
        "id": "M6HGyft9XOHi"
      },
      "source": [
        "import random\n",
        "should_continue=True\n",
        "while should_continue:\n",
        "  print(\"\\n\\nWelcome to Number Guessing Game\")\n",
        "  print(\"I am thinking of a number between 1 and 100\")\n",
        "  level=input(\"Choose your level-easy or hard: \")\n",
        "  if level=='easy':\n",
        "    n=10\n",
        "  elif level=='hard':\n",
        "    n=5\n",
        "  f=0\n",
        "  comp=random.randint(1,100)\n",
        "  for i in range(n,0,-1):\n",
        "    num=int(input(\"Enter any number:\"))\n",
        "    if comp==num:\n",
        "      print(\"Congratulations!!You have made the correct guess.You win\")\n",
        "      f=1\n",
        "      break\n",
        "    elif comp>num:\n",
        "      print(\"Too low\")\n",
        "    else:\n",
        "      print(\"Too high\")\n",
        "    print(f\"You are left with {i-1} attempts.\")\n",
        "  if f==0:\n",
        "    print(\"You lose!!!!\")\n",
        "  ch=input(\"Do you wish to continue?(Y/N):\")\n",
        "  if ch=='Y':\n",
        "    should_continue=True\n",
        "  else:\n",
        "    should_continue=False"
      ],
      "execution_count": null,
      "outputs": []
    }
  ]
}