{
  "nbformat": 4,
  "nbformat_minor": 0,
  "metadata": {
    "colab": {
      "name": "CalendarBooking.ipynb",
      "provenance": [],
      "authorship_tag": "ABX9TyNWqLZSRA/gtEH8tscY+PHV",
      "include_colab_link": true
    },
    "kernelspec": {
      "name": "python3",
      "display_name": "Python 3"
    },
    "language_info": {
      "name": "python"
    }
  },
  "cells": [
    {
      "cell_type": "markdown",
      "metadata": {
        "id": "view-in-github",
        "colab_type": "text"
      },
      "source": [
        "<a href=\"https://colab.research.google.com/github/sinishibu/100DaysOfCode/blob/main/CalendarBooking.ipynb\" target=\"_parent\"><img src=\"https://colab.research.google.com/assets/colab-badge.svg\" alt=\"Open In Colab\"/></a>"
      ]
    },
    {
      "cell_type": "code",
      "metadata": {
        "colab": {
          "base_uri": "https://localhost:8080/"
        },
        "id": "hGJnJzIZa-3x",
        "outputId": "a7c8211a-20e7-4530-92fc-8f7a837709e7"
      },
      "source": [
        "class MyCalendar:\n",
        "\n",
        "    def __init__(self):\n",
        "        self.start = 0\n",
        "        self.end = 0\n",
        "\n",
        "    def book(self, start: int, end: int) -> bool:\n",
        "\n",
        "        f = 0\n",
        "        if self.start == 0 and self.end == 0:\n",
        "            self.start=start\n",
        "            self.end=end\n",
        "            print(f\"Calendar Booked for {start,end}\")\n",
        "            l.append([start, end])\n",
        "            return True\n",
        "        else:\n",
        "            l1=list(range(start,end))\n",
        "            for i in l:\n",
        "                l2=list(range(i[0],i[1]))\n",
        "                for j in range(0,len(l1)-1):\n",
        "                    if l1[j] in l2:\n",
        "                        f=1\n",
        "\n",
        "            if f == 1:\n",
        "                print(f\"Booking Not Possible for {start,end}\")\n",
        "                return False\n",
        "            else:\n",
        "                print(f\"Calendar Booked for {start,end}\")\n",
        "                l.append([start,end])\n",
        "                l.sort()\n",
        "                return True\n",
        "\n",
        "\n",
        "l = []\n",
        "obj=MyCalendar()\n",
        "p=obj.book(47,50)\n",
        "p=obj.book(33,41)\n",
        "p=obj.book(39,45)\n",
        "p=obj.book(33,42)\n",
        "p=obj.book(25,32)\n",
        "p=obj.book(26,35)\n",
        "p=obj.book(19,25)\n",
        "p=obj.book(3,8)\n",
        "p=obj.book(8,13)\n",
        "p=obj.book(18,27)\n"
      ],
      "execution_count": 3,
      "outputs": [
        {
          "output_type": "stream",
          "text": [
            "Calendar Booked for (47, 50)\n",
            "Calendar Booked for (33, 41)\n",
            "Booking Not Possible for (39, 45)\n",
            "Booking Not Possible for (33, 42)\n",
            "Calendar Booked for (25, 32)\n",
            "Booking Not Possible for (26, 35)\n",
            "Calendar Booked for (19, 25)\n",
            "Calendar Booked for (3, 8)\n",
            "Calendar Booked for (8, 13)\n",
            "Booking Not Possible for (18, 27)\n",
            "[[3, 8], [8, 13], [19, 25], [25, 32], [33, 41], [47, 50]]\n"
          ],
          "name": "stdout"
        }
      ]
    }
  ]
}