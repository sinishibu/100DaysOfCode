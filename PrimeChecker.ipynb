{
  "nbformat": 4,
  "nbformat_minor": 0,
  "metadata": {
    "colab": {
      "name": "PrimeChecker.ipynb",
      "provenance": [],
      "authorship_tag": "ABX9TyNB/od6jquLhuF0XAn/bTjq",
      "include_colab_link": true
    },
    "kernelspec": {
      "name": "python3",
      "display_name": "Python 3"
    },
    "language_info": {
      "name": "python"
    }
  },
  "cells": [
    {
      "cell_type": "markdown",
      "metadata": {
        "id": "view-in-github",
        "colab_type": "text"
      },
      "source": [
        "<a href=\"https://colab.research.google.com/github/sinishibu/100DaysOfCode/blob/main/PrimeChecker.ipynb\" target=\"_parent\"><img src=\"https://colab.research.google.com/assets/colab-badge.svg\" alt=\"Open In Colab\"/></a>"
      ]
    },
    {
      "cell_type": "code",
      "metadata": {
        "id": "-VWGQ5Q42ThP"
      },
      "source": [
        "#First *fork* your copy. Then copy-paste your code below this line 👇\n",
        "#Finally click \"Run\" to execute the tests\n",
        "def prime_checker(number):\n",
        "  f=0\n",
        "  for i in range(2,n-1):\n",
        "    if number%i==0:\n",
        "      f=1\n",
        "  if f==1:\n",
        "    print(\"It's not a prime number.\")\n",
        "  else:\n",
        "    print(\"It's a prime number.\")\n",
        "\n",
        "\n",
        "\n",
        "\n",
        "#Write your code above this line 👆\n",
        "    \n",
        "#Do NOT change any of the code below👇\n",
        "n = int(input(\"Check this number: \"))\n",
        "prime_checker(number=n)"
      ],
      "execution_count": null,
      "outputs": []
    }
  ]
}