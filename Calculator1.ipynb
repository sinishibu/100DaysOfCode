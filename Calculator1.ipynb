{
  "nbformat": 4,
  "nbformat_minor": 0,
  "metadata": {
    "colab": {
      "name": "Calculator1.ipynb",
      "provenance": [],
      "authorship_tag": "ABX9TyOU5TW4Unh0v2m4Gf+yPgTk",
      "include_colab_link": true
    },
    "kernelspec": {
      "name": "python3",
      "display_name": "Python 3"
    },
    "language_info": {
      "name": "python"
    }
  },
  "cells": [
    {
      "cell_type": "markdown",
      "metadata": {
        "id": "view-in-github",
        "colab_type": "text"
      },
      "source": [
        "<a href=\"https://colab.research.google.com/github/sinishibu/100DaysOfCode/blob/main/Calculator1.ipynb\" target=\"_parent\"><img src=\"https://colab.research.google.com/assets/colab-badge.svg\" alt=\"Open In Colab\"/></a>"
      ]
    },
    {
      "cell_type": "code",
      "metadata": {
        "id": "R7XG7An3Xazp"
      },
      "source": [
        "def add(n1,n2):\n",
        "    return(n1+n2)\n",
        "def diff(n1,n2):\n",
        "    return(n1-n2)\n",
        "def prod(n1,n2):\n",
        "    return(n1*n2)\n",
        "def div(n1,n2):\n",
        "    return(n1/n2)\n",
        "end='Yes'\n",
        "while end=='Yes':\n",
        "  n1=int(input(\"Enter any number:\"))\n",
        "  op=input(\"Enter operator\\n+\\n-\\n*\\n/\\n\")\n",
        "  n2=int(input(\"Enter second number:\"))\n",
        "  if op=='+':\n",
        "      print(\"Sum=\",add(n1,n2))\n",
        "  if op=='-':\n",
        "    print(\"Difference=\",diff(n1,n2))\n",
        "  if op=='*':\n",
        "    print(\"Product=\",prod(n1,n2))\n",
        "  if op=='/':\n",
        "    print(\"Quotient=\",div(n1,n2))\n",
        "  end=input(\"Do you want to continue?\")"
      ],
      "execution_count": null,
      "outputs": []
    }
  ]
}