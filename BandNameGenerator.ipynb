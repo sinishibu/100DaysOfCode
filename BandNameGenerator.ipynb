{
  "nbformat": 4,
  "nbformat_minor": 0,
  "metadata": {
    "colab": {
      "name": "BandNameGenerator.ipynb",
      "provenance": [],
      "authorship_tag": "ABX9TyPmDyMv7ZQNGx5bAufUKyOm",
      "include_colab_link": true
    },
    "kernelspec": {
      "name": "python3",
      "display_name": "Python 3"
    },
    "language_info": {
      "name": "python"
    }
  },
  "cells": [
    {
      "cell_type": "markdown",
      "metadata": {
        "id": "view-in-github",
        "colab_type": "text"
      },
      "source": [
        "<a href=\"https://colab.research.google.com/github/sinishibu/100DaysOfCode/blob/main/BandNameGenerator.ipynb\" target=\"_parent\"><img src=\"https://colab.research.google.com/assets/colab-badge.svg\" alt=\"Open In Colab\"/></a>"
      ]
    },
    {
      "cell_type": "code",
      "metadata": {
        "colab": {
          "base_uri": "https://localhost:8080/"
        },
        "id": "9rHasPKdqx0W",
        "outputId": "06f529fe-a996-45d8-bec5-5f789b9b9f52"
      },
      "source": [
        "#1. Create a greeting for your program.\n",
        "print(\"Hello\")\n",
        "#2. Ask the user for the city that they grew up in.\n",
        "city=input(\"Which city did you grow up in?\\n\")\n",
        "#3. Ask the user for the name of a pet.\n",
        "p_name=input(\"What is your pet's name?\\n\")\n",
        "#4. Combine the name of their city and pet and show them their band name.\n",
        "print(\"Your band name could be \"+city+\" \"+p_name)\n",
        "#5. Make sure the input cursor shows on a new line, see the example at:\n",
        "#   https://band-name-generator-end.appbrewery.repl.run/"
      ],
      "execution_count": 1,
      "outputs": [
        {
          "output_type": "stream",
          "text": [
            "Hello\n",
            "Which city did you grow up in?\n",
            "Pune\n",
            "What is your pet's name?\n",
            "Bumpy\n",
            "Your band name could be Pune Bumpy\n"
          ],
          "name": "stdout"
        }
      ]
    }
  ]
}