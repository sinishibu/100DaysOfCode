{
  "nbformat": 4,
  "nbformat_minor": 0,
  "metadata": {
    "colab": {
      "name": "StudentScores.ipynb",
      "provenance": [],
      "authorship_tag": "ABX9TyMT1GAZRENyYCWBAarutMCP",
      "include_colab_link": true
    },
    "kernelspec": {
      "name": "python3",
      "display_name": "Python 3"
    },
    "language_info": {
      "name": "python"
    }
  },
  "cells": [
    {
      "cell_type": "markdown",
      "metadata": {
        "id": "view-in-github",
        "colab_type": "text"
      },
      "source": [
        "<a href=\"https://colab.research.google.com/github/sinishibu/100DaysOfCode/blob/main/StudentScores.ipynb\" target=\"_parent\"><img src=\"https://colab.research.google.com/assets/colab-badge.svg\" alt=\"Open In Colab\"/></a>"
      ]
    },
    {
      "cell_type": "code",
      "metadata": {
        "id": "tEbBHaK4-j7e"
      },
      "source": [
        "student_scores = {\n",
        "  \"Harry\": 81,\n",
        "  \"Ron\": 78,\n",
        "  \"Hermione\": 99, \n",
        "  \"Draco\": 74,\n",
        "  \"Neville\": 62,\n",
        "}\n",
        "# 🚨 Don't change the code above 👆\n",
        "\n",
        "#TODO-1: Create an empty dictionary called student_grades.\n",
        "student_grades={}\n",
        "\n",
        "#TODO-2: Write your code below to add the grades to student_grades.👇\n",
        "for student in student_scores:\n",
        "  if student_scores[student]>=91:\n",
        "    grade=\"Outstanding\"\n",
        "  elif student_scores[student]>=81:\n",
        "    grade=\"Exceeds Expectations\"\n",
        "  elif student_scores[student]>=71:\n",
        "    grade=\"Acceptable\"\n",
        "  else:\n",
        "    grade=\"Fail\"\n",
        "  student_grades[student]=grade\n",
        "# 🚨 Don't change the code below 👇\n",
        "print(student_grades)\n"
      ],
      "execution_count": null,
      "outputs": []
    }
  ]
}