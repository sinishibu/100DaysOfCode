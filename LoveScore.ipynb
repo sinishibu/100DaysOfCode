{
  "nbformat": 4,
  "nbformat_minor": 0,
  "metadata": {
    "colab": {
      "name": "LoveScore.ipynb",
      "provenance": [],
      "authorship_tag": "ABX9TyO4PWga4nbhEoqoCGmYwbV7",
      "include_colab_link": true
    },
    "kernelspec": {
      "name": "python3",
      "display_name": "Python 3"
    },
    "language_info": {
      "name": "python"
    }
  },
  "cells": [
    {
      "cell_type": "markdown",
      "metadata": {
        "id": "view-in-github",
        "colab_type": "text"
      },
      "source": [
        "<a href=\"https://colab.research.google.com/github/sinishibu/100DaysOfCode/blob/main/LoveScore.ipynb\" target=\"_parent\"><img src=\"https://colab.research.google.com/assets/colab-badge.svg\" alt=\"Open In Colab\"/></a>"
      ]
    },
    {
      "cell_type": "code",
      "metadata": {
        "colab": {
          "base_uri": "https://localhost:8080/"
        },
        "id": "qah5pOAm3bwn",
        "outputId": "cff4538c-844f-48ea-c605-3345bae06b92"
      },
      "source": [
        "print(\"Welcome to the Love Calculator!\")\n",
        "name1 = input(\"What is your name? \\n\")\n",
        "name2 = input(\"What is their name? \\n\")\n",
        "# 🚨 Don't change the code above 👆\n",
        "\n",
        "#Write your code below this line 👇\n",
        "\n",
        "name1=name1.lower()\n",
        "\n",
        "name2=name2.lower()\n",
        "tens=name1.count(\"t\")+name2.count(\"t\")+name1.count(\"r\")+name2.count(\"r\")+name1.count(\"u\")+name2.count(\"u\")+name1.count(\"e\")+name2.count(\"e\")\n",
        "units=name1.count(\"l\")+name2.count(\"l\")+name1.count(\"o\")+name2.count(\"o\")+name1.count(\"v\")+name2.count(\"v\")+name1.count(\"e\")+name2.count(\"e\")\n",
        "print(\" Your love compatibility is \" +str(tens)+str(units)+\"%\")"
      ],
      "execution_count": 4,
      "outputs": [
        {
          "output_type": "stream",
          "text": [
            "Welcome to the Love Calculator!\n",
            "What is your name? \n",
            "Angela Yu\n",
            "What is their name? \n",
            "Jack Bauer\n",
            " Your love compatibility is 53%\n"
          ],
          "name": "stdout"
        }
      ]
    }
  ]
}