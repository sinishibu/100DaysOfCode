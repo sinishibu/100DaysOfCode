{
  "nbformat": 4,
  "nbformat_minor": 0,
  "metadata": {
    "colab": {
      "name": "BlindBidding.ipynb",
      "provenance": [],
      "authorship_tag": "ABX9TyOHTdYZaZq9ttBLZRccxtv/",
      "include_colab_link": true
    },
    "kernelspec": {
      "name": "python3",
      "display_name": "Python 3"
    },
    "language_info": {
      "name": "python"
    }
  },
  "cells": [
    {
      "cell_type": "markdown",
      "metadata": {
        "id": "view-in-github",
        "colab_type": "text"
      },
      "source": [
        "<a href=\"https://colab.research.google.com/github/sinishibu/100DaysOfCode/blob/main/BlindBidding.ipynb\" target=\"_parent\"><img src=\"https://colab.research.google.com/assets/colab-badge.svg\" alt=\"Open In Colab\"/></a>"
      ]
    },
    {
      "cell_type": "code",
      "metadata": {
        "id": "xfghQnPHIUUx"
      },
      "source": [
        "from replit import clear\n",
        "import art\n",
        "#HINT: You can call clear() to clear the output in the console.\n",
        "print(art.logo)\n",
        "more=\"Yes\"\n",
        "dict1={}\n",
        "while more=='Yes':\n",
        "  clear()\n",
        "  print(art.logo)\n",
        "  name=input(\"Enter your name:\")\n",
        "  bid=int(input(\"Enter your bid:\"))\n",
        "  dict1[name]=bid\n",
        "  more=input(\"Are there more bidders?\")\n",
        "max=0\n",
        "for name in dict1:\n",
        "  if dict1[name]>max:\n",
        "    max=dict1[name]\n",
        "for name in dict1:\n",
        "  if dict1[name]==max:\n",
        "    print(f\"Winner of the bid is {name} and bid amount is {dict1[name]}\")"
      ],
      "execution_count": null,
      "outputs": []
    }
  ]
}