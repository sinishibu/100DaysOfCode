{
  "nbformat": 4,
  "nbformat_minor": 0,
  "metadata": {
    "colab": {
      "name": "Lowest_score.ipynb",
      "provenance": [],
      "authorship_tag": "ABX9TyMz3k+2+M1xtryh7byEKIkX",
      "include_colab_link": true
    },
    "kernelspec": {
      "name": "python3",
      "display_name": "Python 3"
    },
    "language_info": {
      "name": "python"
    }
  },
  "cells": [
    {
      "cell_type": "markdown",
      "metadata": {
        "id": "view-in-github",
        "colab_type": "text"
      },
      "source": [
        "<a href=\"https://colab.research.google.com/github/sinishibu/100DaysOfCode/blob/main/Lowest_score.ipynb\" target=\"_parent\"><img src=\"https://colab.research.google.com/assets/colab-badge.svg\" alt=\"Open In Colab\"/></a>"
      ]
    },
    {
      "cell_type": "code",
      "metadata": {
        "colab": {
          "base_uri": "https://localhost:8080/"
        },
        "id": "oIeqYTiqwUYw",
        "outputId": "fc65e959-5640-470d-8dd8-7d949aa37d42"
      },
      "source": [
        "# 🚨 Don't change the code below 👇\n",
        "student_scores = input(\"Input a list of student scores \").split()\n",
        "for n in range(0, len(student_scores)):\n",
        "  student_scores[n] = int(student_scores[n])\n",
        "print(student_scores)\n",
        "# 🚨 Don't change the code above 👆\n",
        "\n",
        "#Write your code below this row 👇\n",
        "\n",
        "min=student_scores[0]\n",
        "for i in student_scores:\n",
        "  if i<min:\n",
        "    min=i\n",
        "print('The lowest score in the class is: ',min)"
      ],
      "execution_count": 3,
      "outputs": [
        {
          "output_type": "stream",
          "text": [
            "Input a list of student scores 23 45 78 1 23\n",
            "[23, 45, 78, 1, 23]\n",
            "The lowest score in the class is:  1\n"
          ],
          "name": "stdout"
        }
      ]
    }
  ]
}