{
  "nbformat": 4,
  "nbformat_minor": 0,
  "metadata": {
    "colab": {
      "name": "Hangman1.ipynb",
      "provenance": [],
      "authorship_tag": "ABX9TyNXohOj/oO16C+c51WJ+c07",
      "include_colab_link": true
    },
    "kernelspec": {
      "name": "python3",
      "display_name": "Python 3"
    },
    "language_info": {
      "name": "python"
    }
  },
  "cells": [
    {
      "cell_type": "markdown",
      "metadata": {
        "id": "view-in-github",
        "colab_type": "text"
      },
      "source": [
        "<a href=\"https://colab.research.google.com/github/sinishibu/100DaysOfCode/blob/main/Hangman1.ipynb\" target=\"_parent\"><img src=\"https://colab.research.google.com/assets/colab-badge.svg\" alt=\"Open In Colab\"/></a>"
      ]
    },
    {
      "cell_type": "code",
      "metadata": {
        "colab": {
          "base_uri": "https://localhost:8080/"
        },
        "id": "-EwvcbeYKDUK",
        "outputId": "7d2e9049-5b83-40ec-ade3-3f25f22017ff"
      },
      "source": [
        "#Step 2\n",
        "\n",
        "import random\n",
        "word_list = [\"aardvark\", \"baboon\", \"camel\"]\n",
        "chosen_word = random.choice(word_list)\n",
        "\n",
        "#Testing code\n",
        "print(f'Pssst, the solution is {chosen_word}.')\n",
        "\n",
        "#TODO-1: - Create an empty List called display.\n",
        "#For each letter in the chosen_word, add a \"_\" to 'display'.\n",
        "#So if the chosen_word was \"apple\", display should be [\"_\", \"_\", \"_\", \"_\", \"_\"] with 5 \"_\" representing each letter to guess.\n",
        "display=[]\n",
        "for i in chosen_word:\n",
        "  display.append(\"_\")\n",
        "guess = input(\"Guess a letter: \").lower()\n",
        "\n",
        "#TODO-2: - Loop through each position in the chosen_word;\n",
        "#If the letter at that position matches 'guess' then reveal that letter in the display at that position.\n",
        "#e.g. If the user guessed \"p\" and the chosen word was \"apple\", then display should be [\"_\", \"p\", \"p\", \"_\", \"_\"].\n",
        "for letter in chosen_word:\n",
        "    if letter == guess:\n",
        "        print(\"Right\")\n",
        "    else:\n",
        "        print(\"Wrong\")\n",
        "\n",
        "#TODO-3: - Print 'display' and you should see the guessed letter in the correct position and every other letter replace with \"_\".\n",
        "#Hint - Don't worry about getting the user to guess the next letter. We'll tackle that in step 3.\n",
        "for i in range(len(chosen_word)):\n",
        "  if guess==chosen_word[i]:\n",
        "    display[i]=guess\n",
        "\n",
        "print(display)"
      ],
      "execution_count": 1,
      "outputs": [
        {
          "output_type": "stream",
          "text": [
            "Pssst, the solution is baboon.\n",
            "Guess a letter: o\n",
            "Wrong\n",
            "Wrong\n",
            "Wrong\n",
            "Right\n",
            "Right\n",
            "Wrong\n",
            "['_', '_', '_', 'o', 'o', '_']\n"
          ],
          "name": "stdout"
        }
      ]
    }
  ]
}